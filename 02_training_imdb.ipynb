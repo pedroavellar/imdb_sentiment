{
  "nbformat": 4,
  "nbformat_minor": 0,
  "metadata": {
    "colab": {
      "name": "02_training_imdb.ipynb",
      "provenance": [],
      "collapsed_sections": [],
      "toc_visible": true
    },
    "kernelspec": {
      "name": "python3",
      "display_name": "Python 3"
    }
  },
  "cells": [
    {
      "cell_type": "code",
      "metadata": {
        "id": "eDao9RlBm-AX"
      },
      "source": [
        "import pandas as pd"
      ],
      "execution_count": null,
      "outputs": []
    },
    {
      "cell_type": "code",
      "metadata": {
        "id": "iZOxKocdhI3H"
      },
      "source": [
        "# Pegando o conjunto de dados explorado\n",
        "df = pd.read_csv('imdb_cleaned.csv')"
      ],
      "execution_count": null,
      "outputs": []
    },
    {
      "cell_type": "code",
      "metadata": {
        "id": "tV-H12RqoTm7"
      },
      "source": [
        "#!wget https://docs.google.com/spreadsheets/d/15HbHg2Eh_kQALFqYhD8LFzFpqYpv4meN/export?format=csv"
      ],
      "execution_count": null,
      "outputs": []
    },
    {
      "cell_type": "code",
      "metadata": {
        "colab": {
          "base_uri": "https://localhost:8080/",
          "height": 306
        },
        "id": "1TOUuSFknGZs",
        "outputId": "2641cfd5-ba44-42eb-8e36-da2348419754"
      },
      "source": [
        "df.head()"
      ],
      "execution_count": null,
      "outputs": [
        {
          "output_type": "execute_result",
          "data": {
            "text/html": [
              "<div>\n",
              "<style scoped>\n",
              "    .dataframe tbody tr th:only-of-type {\n",
              "        vertical-align: middle;\n",
              "    }\n",
              "\n",
              "    .dataframe tbody tr th {\n",
              "        vertical-align: top;\n",
              "    }\n",
              "\n",
              "    .dataframe thead th {\n",
              "        text-align: right;\n",
              "    }\n",
              "</style>\n",
              "<table border=\"1\" class=\"dataframe\">\n",
              "  <thead>\n",
              "    <tr style=\"text-align: right;\">\n",
              "      <th></th>\n",
              "      <th>Unnamed: 0</th>\n",
              "      <th>review</th>\n",
              "      <th>sentiment</th>\n",
              "      <th>cleaner</th>\n",
              "      <th>cleaner_str</th>\n",
              "    </tr>\n",
              "  </thead>\n",
              "  <tbody>\n",
              "    <tr>\n",
              "      <th>0</th>\n",
              "      <td>0</td>\n",
              "      <td>One of the other reviewers has mentioned that ...</td>\n",
              "      <td>positive</td>\n",
              "      <td>['one', 'review', 'mention', 'watch', 'oz', 'e...</td>\n",
              "      <td>one review mention watch oz episod hook right ...</td>\n",
              "    </tr>\n",
              "    <tr>\n",
              "      <th>1</th>\n",
              "      <td>1</td>\n",
              "      <td>A wonderful little production.     The filming...</td>\n",
              "      <td>positive</td>\n",
              "      <td>['wonder', 'littl', 'product', 'film', 'techni...</td>\n",
              "      <td>wonder littl product film techniqu fashion giv...</td>\n",
              "    </tr>\n",
              "    <tr>\n",
              "      <th>2</th>\n",
              "      <td>2</td>\n",
              "      <td>I thought this was a wonderful way to spend ti...</td>\n",
              "      <td>positive</td>\n",
              "      <td>['thought', 'wonder', 'way', 'spend', 'time', ...</td>\n",
              "      <td>thought wonder way spend time hot summer weeke...</td>\n",
              "    </tr>\n",
              "    <tr>\n",
              "      <th>3</th>\n",
              "      <td>3</td>\n",
              "      <td>Basically there's a family where a little boy ...</td>\n",
              "      <td>negative</td>\n",
              "      <td>['basic', 'famili', 'littl', 'boy', 'jake', 't...</td>\n",
              "      <td>basic famili littl boy jake think zombi closet...</td>\n",
              "    </tr>\n",
              "    <tr>\n",
              "      <th>4</th>\n",
              "      <td>4</td>\n",
              "      <td>Petter Mattei's \"Love in the Time of Money\" is...</td>\n",
              "      <td>positive</td>\n",
              "      <td>['petter', 'mattei', 'love', 'time', 'money', ...</td>\n",
              "      <td>petter mattei love time money visual stun film...</td>\n",
              "    </tr>\n",
              "  </tbody>\n",
              "</table>\n",
              "</div>"
            ],
            "text/plain": [
              "   Unnamed: 0  ...                                        cleaner_str\n",
              "0           0  ...  one review mention watch oz episod hook right ...\n",
              "1           1  ...  wonder littl product film techniqu fashion giv...\n",
              "2           2  ...  thought wonder way spend time hot summer weeke...\n",
              "3           3  ...  basic famili littl boy jake think zombi closet...\n",
              "4           4  ...  petter mattei love time money visual stun film...\n",
              "\n",
              "[5 rows x 5 columns]"
            ]
          },
          "metadata": {
            "tags": []
          },
          "execution_count": 3
        }
      ]
    },
    {
      "cell_type": "markdown",
      "metadata": {
        "id": "GTKtpqVbeCNc"
      },
      "source": [
        "# Treinando Classificadores"
      ]
    },
    {
      "cell_type": "code",
      "metadata": {
        "id": "u6gGWVcdgGCV"
      },
      "source": [
        "from sklearn.feature_extraction.text import TfidfVectorizer\n",
        "from sklearn.ensemble import RandomForestClassifier\n",
        "from sklearn.model_selection import train_test_split, cross_val_score\n",
        "from sklearn.metrics import accuracy_score"
      ],
      "execution_count": null,
      "outputs": []
    },
    {
      "cell_type": "code",
      "metadata": {
        "id": "-7yKQh-qg_a0"
      },
      "source": [
        "# Fazendo vetorização TF-IDF\n",
        "vectorizer = TfidfVectorizer()\n",
        "X = vectorizer.fit_transform(df['cleaner_str'])\n",
        "y = df['sentiment']"
      ],
      "execution_count": null,
      "outputs": []
    },
    {
      "cell_type": "code",
      "metadata": {
        "id": "CGA1lCUHlXPO"
      },
      "source": [
        "from sklearn.linear_model import Perceptron\n",
        "from sklearn.ensemble import RandomForestClassifier, GradientBoostingClassifier\n",
        "\n",
        "# Classificadores para testar\n",
        "experimentos = {\n",
        "    \"Perceptron 0.0001\": Perceptron(), #0.86\n",
        "\n",
        "    #\"Random Forest\": RandomForestClassifier(), #0.850\n",
        "    #\"Random Forest 50\": RandomForestClassifier(n_estimators=50), #0.838\n",
        "    #\"Random Forest 200\": RandomForestClassifier(n_estimators=200), #0.858\n",
        "    #\"Random Forest 400\": RandomForestClassifier(n_estimators=400), #0.861\n",
        "    #\"Random Forest80ent\": RandomForestClassifier(n_estimators=80, criterion='entropy'), #0.72\n",
        "    #\"Random Forest 100 ent\": RandomForestClassifier(n_estimators=100, criterion='entropy'), #0.851\n",
        "    #\"Random Forest 200 ent\": RandomForestClassifier(n_estimators=200, criterion='entropy'), #0.858\n",
        "    \"Random Forest 400 ent\": RandomForestClassifier(n_estimators=400, criterion='entropy'), #0.862\n",
        "\n",
        "    #\"GradientBoost\": GradientBoostingClassifier(), #0.81\n",
        "    #\"GradientBoost 200\": GradientBoostingClassifier(n_estimators=200), #0.836\n",
        "    #\"GradientBoost 400\": GradientBoostingClassifier(n_estimators=400), #0.854\n",
        "    #\"GradientBoost 50\": GradientBoostingClassifier(n_estimators=50), #0.786\n",
        "    #\"GradientBoost 0.01\": GradientBoostingClassifier(learning_rate=0.01), #0.72\n",
        "    #\"GradientBoost 0.3\": GradientBoostingClassifier(learning_rate=0.3), #0.844\n",
        "    #\"GradientBoost 0.5\": GradientBoostingClassifier(learning_rate=0.5), #0.850\n",
        "\n",
        "    \"GradientBoost 0.5 400\": GradientBoostingClassifier(n_estimators=400, learning_rate=0.5), #0.861\n",
        "    #\"GradientBoost 0.75 500\": GradientBoostingClassifier(n_estimators=500, learning_rate=0.75), #0.853\n",
        "}"
      ],
      "execution_count": null,
      "outputs": []
    },
    {
      "cell_type": "code",
      "metadata": {
        "colab": {
          "base_uri": "https://localhost:8080/"
        },
        "id": "2xYK09PKhyb4",
        "outputId": "8d527bb8-f43d-4447-8104-5929a11e2bbb"
      },
      "source": [
        "# Faz validação cruzada de cada um dos modelos\n",
        "\n",
        "for exp in experimentos:\n",
        "  print('Training '+ exp)\n",
        "  model = experimentos[exp]\n",
        "  scores = cross_val_score(model, X, y, cv=5, scoring='accuracy')\n",
        "  print(scores)\n",
        "  print(sum(scores)/5)"
      ],
      "execution_count": null,
      "outputs": [
        {
          "output_type": "stream",
          "text": [
            "Training Perceptron 0.0001\n",
            "[0.85762004 0.85302714 0.85302714 0.85427975 0.85323591]\n",
            "0.8542379958246347\n",
            "Training Random Forest 400 ent\n",
            "[0.8565762  0.86325678 0.85866388 0.86555324 0.85678497]\n",
            "0.8601670146137789\n",
            "Training GradientBoost 0.5 400\n",
            "[0.85010438 0.85762004 0.84697286 0.85741127 0.85073069]\n",
            "0.8525678496868476\n"
          ],
          "name": "stdout"
        }
      ]
    },
    {
      "cell_type": "code",
      "metadata": {
        "id": "dP96gBTFhT9C"
      },
      "source": [
        "#Testando com mudanças no TFIFD (max e min)\n",
        "vectorizer2 = TfidfVectorizer(max_df=0.9, min_df=100)\n",
        "X2 = vectorizer2.fit_transform(df['cleaner_str'])"
      ],
      "execution_count": null,
      "outputs": []
    },
    {
      "cell_type": "code",
      "metadata": {
        "colab": {
          "base_uri": "https://localhost:8080/"
        },
        "id": "8uriZl2oh6Zu",
        "outputId": "fd1454b6-78ec-4e83-b29e-63347c05a41a"
      },
      "source": [
        "for exp in experimentos:\n",
        "  print('Training '+ exp)\n",
        "  model = experimentos[exp]\n",
        "  scores = cross_val_score(model, X2, y, cv=5, scoring='accuracy')\n",
        "  print(scores)\n",
        "  print(sum(scores)/5)\n",
        "\n",
        "#0.846 / 0.854 / 0.862"
      ],
      "execution_count": null,
      "outputs": [
        {
          "output_type": "stream",
          "text": [
            "Training Perceptron 0.0001\n",
            "[0.84133612 0.84196242 0.84070981 0.82693111 0.8348643 ]\n",
            "0.8371607515657621\n",
            "Training Random Forest 400 ent\n",
            "[0.8440501  0.85135699 0.85010438 0.85240084 0.84258873]\n",
            "0.8481002087682672\n",
            "Training GradientBoost 0.5 400\n",
            "[0.84759916 0.8565762  0.84968685 0.85490605 0.8480167 ]\n",
            "0.8513569937369521\n"
          ],
          "name": "stdout"
        }
      ]
    },
    {
      "cell_type": "code",
      "metadata": {
        "id": "rwLMSnS9wRf8"
      },
      "source": [
        "#Testando com mudanças no TFIFD (bigramas)\n",
        "vectorizer3 = TfidfVectorizer(max_df=0.9, min_df=100, ngram_range=(1,2))\n",
        "X3 = vectorizer3.fit_transform(df['cleaner_str'])"
      ],
      "execution_count": null,
      "outputs": []
    },
    {
      "cell_type": "code",
      "metadata": {
        "colab": {
          "base_uri": "https://localhost:8080/"
        },
        "id": "kwShT6KvwdwD",
        "outputId": "54902177-150b-43b3-af3c-fb4c7d14a04b"
      },
      "source": [
        "for exp in experimentos:\n",
        "  print('Training '+ exp)\n",
        "  model = experimentos[exp]\n",
        "  scores = cross_val_score(model, X3, y, cv=5, scoring='accuracy')\n",
        "  print(scores)\n",
        "  print(sum(scores)/5)\n",
        "\n",
        "# 0.8494 / 0.8587 / 0.8649"
      ],
      "execution_count": null,
      "outputs": [
        {
          "output_type": "stream",
          "text": [
            "Training Perceptron 0.0001\n",
            "[0.84321503 0.84759916 0.83778706 0.83736952 0.83632568]\n",
            "0.8404592901878913\n",
            "Training Random Forest 400 ent\n",
            "[0.84509395 0.85803758 0.85240084 0.85678497 0.8440501 ]\n",
            "0.8512734864300626\n",
            "Training GradientBoost 0.5 400\n",
            "[0.85553236 0.85636743 0.85323591 0.86367432 0.8519833 ]\n",
            "0.8561586638830898\n"
          ],
          "name": "stdout"
        }
      ]
    },
    {
      "cell_type": "code",
      "metadata": {
        "id": "9DBqbN6Uhr5S"
      },
      "source": [
        "#Testando com mudanças no TFIFD (bigramas, min menor)\n",
        "vectorizer4 = TfidfVectorizer(ngram_range=(1,2), max_df=0.9, min_df=5)\n",
        "X4 = vectorizer4.fit_transform(df['cleaner_str'])"
      ],
      "execution_count": null,
      "outputs": []
    },
    {
      "cell_type": "code",
      "metadata": {
        "colab": {
          "base_uri": "https://localhost:8080/"
        },
        "id": "gjfoT5mYh6St",
        "outputId": "ae48a8e5-2738-430e-9fab-e3d36cf15241"
      },
      "source": [
        "for exp in experimentos:\n",
        "  print('Training '+ exp)\n",
        "  model = experimentos[exp]\n",
        "  scores = cross_val_score(model, X4, y, cv=5, scoring='accuracy')\n",
        "  print(scores)\n",
        "  print(sum(scores)/5)"
      ],
      "execution_count": null,
      "outputs": [
        {
          "output_type": "stream",
          "text": [
            "Training Perceptron 0.0001\n",
            "[0.897  0.8873 0.893  0.8898 0.8925]\n",
            "0.89192\n",
            "Training Random Forest 400 ent\n",
            "[0.8703 0.8735 0.8671 0.868  0.8702]\n",
            "0.86982\n",
            "Training GradientBoost 0.5 400\n",
            "[0.8678 0.8672 0.8605 0.8638 0.8653]\n",
            "0.86492\n"
          ],
          "name": "stdout"
        }
      ]
    },
    {
      "cell_type": "code",
      "metadata": {
        "id": "CgukPrF6MNot"
      },
      "source": [
        "from sklearn.model_selection import cross_validate"
      ],
      "execution_count": null,
      "outputs": []
    },
    {
      "cell_type": "code",
      "metadata": {
        "colab": {
          "base_uri": "https://localhost:8080/"
        },
        "id": "DBaXYi2cNm3c",
        "outputId": "670f1135-528e-49b6-85b6-1b573e5bbf50"
      },
      "source": [
        "# Colocando as classes em binário para as métricas\n",
        "y_new = y.copy()\n",
        "y_new = y_new.replace('positive', 1)\n",
        "y_new = y_new.replace('negative', 0)\n",
        "y_new.head()"
      ],
      "execution_count": null,
      "outputs": [
        {
          "output_type": "execute_result",
          "data": {
            "text/plain": [
              "0    1\n",
              "1    1\n",
              "2    1\n",
              "3    0\n",
              "4    1\n",
              "Name: sentiment, dtype: int64"
            ]
          },
          "metadata": {
            "tags": []
          },
          "execution_count": 13
        }
      ]
    },
    {
      "cell_type": "code",
      "metadata": {
        "colab": {
          "base_uri": "https://localhost:8080/"
        },
        "id": "XHzN9KCSF5U0",
        "outputId": "f19af7b8-7478-4e3b-e230-2b755fa13b0b"
      },
      "source": [
        "for exp in experimentos:\n",
        "  print('Training '+ exp)\n",
        "  model = experimentos[exp]\n",
        "  cv_results = cross_validate(model, X3, y_new, cv=5, scoring=('accuracy', 'precision', 'recall', 'f1'))\n",
        "  print(cv_results)\n",
        "  print(sum(cv_results['fit_time'])/5, sum(cv_results['score_time'])/5, \n",
        "        sum(cv_results['test_accuracy'])/5, sum(cv_results['test_precision'])/5, \n",
        "        sum(cv_results['test_recall'])/5, sum(cv_results['test_f1'])/5)"
      ],
      "execution_count": null,
      "outputs": [
        {
          "output_type": "stream",
          "text": [
            "Training Perceptron 0.0001\n",
            "{'fit_time': array([0.11543965, 0.16393661, 0.11867142, 0.11788988, 0.12868881]), 'score_time': array([0.01114225, 0.00989652, 0.00985169, 0.00972652, 0.00993943]), 'test_accuracy': array([0.84321503, 0.84759916, 0.83778706, 0.83736952, 0.83632568]), 'test_precision': array([0.85460069, 0.85131691, 0.8718186 , 0.83846478, 0.84423408]), 'test_recall': array([0.82557652, 0.84060403, 0.79026846, 0.83389262, 0.82298658]), 'test_f1': array([0.83983792, 0.84592655, 0.8290429 , 0.83617245, 0.83347494])}\n",
            "0.12892527580261232 0.010111284255981446 0.8404592901878913 0.852087013260174 0.8226656395536983 0.8368909520883758\n",
            "Training Random Forest 400 ent\n",
            "{'fit_time': array([185.0684793 , 186.23137617, 186.93921947, 187.66614509,\n",
            "       188.46972346]), 'score_time': array([0.95085096, 0.94881678, 0.94602561, 0.93239236, 0.94281101]), 'test_accuracy': array([0.84759916, 0.85782881, 0.85615866, 0.85762004, 0.84446764]), 'test_precision': array([0.84151878, 0.85317296, 0.84890902, 0.85136251, 0.84046531]), 'test_recall': array([0.85492662, 0.86283557, 0.86493289, 0.86493289, 0.84857383]), 'test_f1': array([0.84816972, 0.85797706, 0.85684604, 0.85809405, 0.8445001 ])}\n",
            "186.87498869895936 0.9441793441772461 0.8527348643006263 0.8470857143090018 0.8592403585046361 0.8531173944024626\n",
            "Training GradientBoost 0.5 400\n",
            "{'fit_time': array([227.37833285, 225.90587831, 228.71629906, 227.46035028,\n",
            "       225.27612543]), 'score_time': array([0.05728006, 0.05607343, 0.05645204, 0.05705023, 0.05652046]), 'test_accuracy': array([0.85615866, 0.85574113, 0.85323591, 0.86367432, 0.85177453]), 'test_precision': array([0.84499593, 0.84508765, 0.84042122, 0.84941461, 0.84107579]), 'test_recall': array([0.87085954, 0.86954698, 0.87038591, 0.88255034, 0.86577181]), 'test_f1': array([0.85773281, 0.85714286, 0.85514115, 0.8656655 , 0.85324514])}\n",
            "226.94739718437194 0.05667524337768555 0.8561169102296452 0.8441990423342496 0.8718229144682228 0.8577854921470681\n"
          ],
          "name": "stdout"
        }
      ]
    },
    {
      "cell_type": "code",
      "metadata": {
        "colab": {
          "base_uri": "https://localhost:8080/"
        },
        "id": "2axRjAyx786Z",
        "outputId": "723c5337-7bbf-4edf-86bf-c5f11fe5ab98"
      },
      "source": [
        "for exp in experimentos:\n",
        "  print('Training '+ exp)\n",
        "  model = experimentos[exp]\n",
        "  cv_results = cross_validate(model, X4, y_new, cv=5, scoring=('accuracy', 'precision', 'recall', 'f1'))\n",
        "  print(cv_results)\n",
        "  print(sum(cv_results['fit_time'])/5, sum(cv_results['score_time'])/5, \n",
        "        sum(cv_results['test_accuracy'])/5, sum(cv_results['test_precision'])/5, \n",
        "        sum(cv_results['test_recall'])/5, sum(cv_results['test_f1'])/5)"
      ],
      "execution_count": null,
      "outputs": [
        {
          "output_type": "stream",
          "text": [
            "Training Perceptron 0.0001\n",
            "{'fit_time': array([0.35785723, 0.3572793 , 0.35745907, 0.36727548, 0.39954042]), 'score_time': array([0.02101326, 0.02080226, 0.02107072, 0.02556682, 0.02050519]), 'test_accuracy': array([0.897 , 0.8873, 0.893 , 0.8898, 0.8925]), 'test_precision': array([0.89260285, 0.88052663, 0.89505428, 0.88502568, 0.88776922]), 'test_recall': array([0.9026, 0.8962, 0.8904, 0.896 , 0.8986]), 'test_f1': array([0.89757359, 0.88829418, 0.89272107, 0.89047903, 0.89315177])}\n",
            "0.36788229942321776 0.021791648864746094 0.89192 0.8881957307088196 0.8967599999999999 0.8924439297351505\n",
            "Training Random Forest 400 ent\n",
            "{'fit_time': array([ 996.67323184, 1004.8491168 , 1008.43733501, 1007.67912078,\n",
            "        995.5049119 ]), 'score_time': array([6.60332179, 6.78639555, 7.20306683, 7.79255748, 7.31549597]), 'test_accuracy': array([0.8736, 0.8726, 0.8685, 0.8681, 0.8737]), 'test_precision': array([0.86117556, 0.85965251, 0.8554891 , 0.85455596, 0.86218259]), 'test_recall': array([0.8908, 0.8906, 0.8868, 0.8872, 0.8896]), 'test_f1': array([0.87573732, 0.87485265, 0.8708632 , 0.87057207, 0.87567674])}\n",
            "1002.6287432670593 7.14016752243042 0.8713000000000001 0.8586111450219359 0.889 0.8735403974000804\n",
            "Training GradientBoost 0.5 400\n",
            "{'fit_time': array([1024.15655899, 1026.06915426, 1020.39094734, 1056.90102291,\n",
            "       1022.53253937]), 'score_time': array([0.17332983, 0.16589642, 0.18598461, 0.19437695, 0.16246247]), 'test_accuracy': array([0.867 , 0.8669, 0.8605, 0.8637, 0.8654]), 'test_precision': array([0.85356455, 0.85312801, 0.84763742, 0.8526275 , 0.85365854]), 'test_recall': array([0.886 , 0.8864, 0.879 , 0.8794, 0.882 ]), 'test_f1': array([0.86947988, 0.86944581, 0.86303387, 0.86580683, 0.86759788])}\n",
            "1030.0100445747375 0.17641005516052247 0.8647 0.8521232007439566 0.88256 0.8670728540690742\n"
          ],
          "name": "stdout"
        }
      ]
    },
    {
      "cell_type": "markdown",
      "metadata": {
        "id": "Dtm6n-mFd7FQ"
      },
      "source": [
        "# Usando o BERT"
      ]
    },
    {
      "cell_type": "code",
      "metadata": {
        "id": "VJlqSKLGXNye"
      },
      "source": [
        "# Usando ktrain, um 'wrapper' leve para usar a biblioteca de deep learning TensorFlow Keras\n",
        "!pip install ktrain\n",
        "import ktrain\n",
        "from ktrain import text as txt"
      ],
      "execution_count": null,
      "outputs": []
    },
    {
      "cell_type": "code",
      "metadata": {
        "colab": {
          "base_uri": "https://localhost:8080/",
          "height": 272
        },
        "id": "uwwvrd85XONP",
        "outputId": "23f85f5f-8801-44ed-8186-d2cd1c3642f9"
      },
      "source": [
        "# Carregando os dados\n",
        "(x_train, y_train), (x_test, y_test), preproc = txt.texts_from_df(train_df=df, maxlen=500,\n",
        "                                                                     text_column = 'review',\n",
        "                                                                     label_columns = 'sentiment', \n",
        "                                                                     preprocess_mode='bert')\n"
      ],
      "execution_count": null,
      "outputs": [
        {
          "output_type": "stream",
          "text": [
            "downloading pretrained BERT model (uncased_L-12_H-768_A-12.zip)...\n",
            "[██████████████████████████████████████████████████]\n",
            "extracting pretrained BERT model...\n",
            "done.\n",
            "\n",
            "cleanup downloaded zip...\n",
            "done.\n",
            "\n",
            "preprocessing train...\n",
            "language: en\n"
          ],
          "name": "stdout"
        },
        {
          "output_type": "display_data",
          "data": {
            "text/html": [
              "done."
            ],
            "text/plain": [
              "<IPython.core.display.HTML object>"
            ]
          },
          "metadata": {
            "tags": []
          }
        },
        {
          "output_type": "stream",
          "text": [
            "Is Multi-Label? False\n",
            "preprocessing test...\n",
            "language: en\n"
          ],
          "name": "stdout"
        },
        {
          "output_type": "display_data",
          "data": {
            "text/html": [
              "done."
            ],
            "text/plain": [
              "<IPython.core.display.HTML object>"
            ]
          },
          "metadata": {
            "tags": []
          }
        }
      ]
    },
    {
      "cell_type": "code",
      "metadata": {
        "colab": {
          "base_uri": "https://localhost:8080/"
        },
        "id": "TpWDLuXUYUZ-",
        "outputId": "b27497f2-5b6d-488d-bdb4-d0bae27674ae"
      },
      "source": [
        "# Carregando o modelo\n",
        "model = txt.text_classifier('bert', (x_train, y_train), preproc=preproc)"
      ],
      "execution_count": null,
      "outputs": [
        {
          "output_type": "stream",
          "text": [
            "Is Multi-Label? False\n",
            "maxlen is 500\n",
            "done.\n"
          ],
          "name": "stdout"
        }
      ]
    },
    {
      "cell_type": "code",
      "metadata": {
        "id": "9H0dnx0fYc3P"
      },
      "source": [
        "# Junta o modelo e os dados nesse objeto learner\n",
        "learner = ktrain.get_learner(model, \n",
        "                             train_data=(x_train, y_train), \n",
        "                             val_data=(x_test, y_test), \n",
        "                             batch_size=6)"
      ],
      "execution_count": null,
      "outputs": []
    },
    {
      "cell_type": "code",
      "metadata": {
        "id": "PMDPf1UDYhxL"
      },
      "source": [
        "# Acha uma taxa de aprendizado boa\n",
        "#learner.lr_find()             # briefly simulate training to find good learning rate\n",
        "#learner.lr_plot()             # visually identify best learning rate\n",
        "# it may take days or many days to find out.\n",
        "# Não executamos isto por causa da demora, foi sugerido utilizar fixar como 2e-5"
      ],
      "execution_count": null,
      "outputs": []
    },
    {
      "cell_type": "code",
      "metadata": {
        "colab": {
          "base_uri": "https://localhost:8080/"
        },
        "id": "ZDmBYbAcWn0d",
        "outputId": "e387cd76-6915-4da6-856f-c53f4b7f3d0e"
      },
      "source": [
        "# Treina usando 1 ciclo em 3 épocas OBS: Isso demora umas 6 horas\n",
        "learner.fit_onecycle(2e-5, 3) "
      ],
      "execution_count": null,
      "outputs": [
        {
          "output_type": "stream",
          "text": [
            "\n",
            "\n",
            "begin training using onecycle policy with max lr of 2e-05...\n",
            "Epoch 1/3\n",
            "7500/7500 [==============================] - 7974s 1s/step - loss: 0.2234 - accuracy: 0.9107 - val_loss: 0.1578 - val_accuracy: 0.9392\n",
            "Epoch 2/3\n",
            "7500/7500 [==============================] - 7971s 1s/step - loss: 0.1418 - accuracy: 0.9482 - val_loss: 0.1522 - val_accuracy: 0.9428\n",
            "Epoch 3/3\n",
            "7500/7500 [==============================] - 7951s 1s/step - loss: 0.0499 - accuracy: 0.9850 - val_loss: 0.1612 - val_accuracy: 0.9510\n"
          ],
          "name": "stdout"
        },
        {
          "output_type": "execute_result",
          "data": {
            "text/plain": [
              "<tensorflow.python.keras.callbacks.History at 0x7f8f2628f9e8>"
            ]
          },
          "metadata": {
            "tags": []
          },
          "execution_count": 9
        }
      ]
    },
    {
      "cell_type": "code",
      "metadata": {
        "id": "MzLWrHlEY40i"
      },
      "source": [
        "# Salva o preditor do modelo treinado -> gera arquivos tf_model.h5 e tf_model.preproc\n",
        "predictor = ktrain.get_predictor(learner.model, preproc)\n",
        "predictor.save('/content/bert')"
      ],
      "execution_count": null,
      "outputs": []
    },
    {
      "cell_type": "code",
      "metadata": {
        "colab": {
          "base_uri": "https://localhost:8080/",
          "height": 17
        },
        "id": "JkskfdRJoRjX",
        "outputId": "9977ca45-db97-4f00-cd98-bf4ca38ab35a"
      },
      "source": [
        "# Baixa os arquivos para a máquina local\n",
        "from google.colab import files\n",
        "files.download('bert/tf_model.h5')\n",
        "files.download('bert/tf_model.preproc') "
      ],
      "execution_count": null,
      "outputs": [
        {
          "output_type": "display_data",
          "data": {
            "application/javascript": [
              "\n",
              "    async function download(id, filename, size) {\n",
              "      if (!google.colab.kernel.accessAllowed) {\n",
              "        return;\n",
              "      }\n",
              "      const div = document.createElement('div');\n",
              "      const label = document.createElement('label');\n",
              "      label.textContent = `Downloading \"${filename}\": `;\n",
              "      div.appendChild(label);\n",
              "      const progress = document.createElement('progress');\n",
              "      progress.max = size;\n",
              "      div.appendChild(progress);\n",
              "      document.body.appendChild(div);\n",
              "\n",
              "      const buffers = [];\n",
              "      let downloaded = 0;\n",
              "\n",
              "      const channel = await google.colab.kernel.comms.open(id);\n",
              "      // Send a message to notify the kernel that we're ready.\n",
              "      channel.send({})\n",
              "\n",
              "      for await (const message of channel.messages) {\n",
              "        // Send a message to notify the kernel that we're ready.\n",
              "        channel.send({})\n",
              "        if (message.buffers) {\n",
              "          for (const buffer of message.buffers) {\n",
              "            buffers.push(buffer);\n",
              "            downloaded += buffer.byteLength;\n",
              "            progress.value = downloaded;\n",
              "          }\n",
              "        }\n",
              "      }\n",
              "      const blob = new Blob(buffers, {type: 'application/binary'});\n",
              "      const a = document.createElement('a');\n",
              "      a.href = window.URL.createObjectURL(blob);\n",
              "      a.download = filename;\n",
              "      div.appendChild(a);\n",
              "      a.click();\n",
              "      div.remove();\n",
              "    }\n",
              "  "
            ],
            "text/plain": [
              "<IPython.core.display.Javascript object>"
            ]
          },
          "metadata": {
            "tags": []
          }
        },
        {
          "output_type": "display_data",
          "data": {
            "application/javascript": [
              "download(\"download_4730003d-a8a4-4dce-b715-a79a7ecdc057\", \"tf_model.h5\", 1314423112)"
            ],
            "text/plain": [
              "<IPython.core.display.Javascript object>"
            ]
          },
          "metadata": {
            "tags": []
          }
        },
        {
          "output_type": "display_data",
          "data": {
            "application/javascript": [
              "\n",
              "    async function download(id, filename, size) {\n",
              "      if (!google.colab.kernel.accessAllowed) {\n",
              "        return;\n",
              "      }\n",
              "      const div = document.createElement('div');\n",
              "      const label = document.createElement('label');\n",
              "      label.textContent = `Downloading \"${filename}\": `;\n",
              "      div.appendChild(label);\n",
              "      const progress = document.createElement('progress');\n",
              "      progress.max = size;\n",
              "      div.appendChild(progress);\n",
              "      document.body.appendChild(div);\n",
              "\n",
              "      const buffers = [];\n",
              "      let downloaded = 0;\n",
              "\n",
              "      const channel = await google.colab.kernel.comms.open(id);\n",
              "      // Send a message to notify the kernel that we're ready.\n",
              "      channel.send({})\n",
              "\n",
              "      for await (const message of channel.messages) {\n",
              "        // Send a message to notify the kernel that we're ready.\n",
              "        channel.send({})\n",
              "        if (message.buffers) {\n",
              "          for (const buffer of message.buffers) {\n",
              "            buffers.push(buffer);\n",
              "            downloaded += buffer.byteLength;\n",
              "            progress.value = downloaded;\n",
              "          }\n",
              "        }\n",
              "      }\n",
              "      const blob = new Blob(buffers, {type: 'application/binary'});\n",
              "      const a = document.createElement('a');\n",
              "      a.href = window.URL.createObjectURL(blob);\n",
              "      a.download = filename;\n",
              "      div.appendChild(a);\n",
              "      a.click();\n",
              "      div.remove();\n",
              "    }\n",
              "  "
            ],
            "text/plain": [
              "<IPython.core.display.Javascript object>"
            ]
          },
          "metadata": {
            "tags": []
          }
        },
        {
          "output_type": "display_data",
          "data": {
            "application/javascript": [
              "download(\"download_98336633-d52f-4438-9d7d-f6da6d31f45d\", \"tf_model.preproc\", 1084034)"
            ],
            "text/plain": [
              "<IPython.core.display.Javascript object>"
            ]
          },
          "metadata": {
            "tags": []
          }
        }
      ]
    },
    {
      "cell_type": "code",
      "metadata": {
        "colab": {
          "base_uri": "https://localhost:8080/"
        },
        "id": "ykF1ihHlG5cC",
        "outputId": "f8e00744-36e4-4dc5-f8ad-3b38a5e9856f"
      },
      "source": [
        "!zip -r /content/bert.zip /content/bert"
      ],
      "execution_count": null,
      "outputs": [
        {
          "output_type": "stream",
          "text": [
            "  adding: content/bert/ (stored 0%)\n",
            "  adding: content/bert/tf_model.h5 (deflated 10%)\n",
            "  adding: content/bert/tf_model.preproc (deflated 52%)\n"
          ],
          "name": "stdout"
        }
      ]
    },
    {
      "cell_type": "code",
      "metadata": {
        "colab": {
          "base_uri": "https://localhost:8080/"
        },
        "id": "9UvkNnPypMyc",
        "outputId": "356575fb-9072-4a3b-ec97-25aab80626ea"
      },
      "source": [
        "from google.colab import drive\n",
        "drive.mount('/content/gdrive')"
      ],
      "execution_count": null,
      "outputs": [
        {
          "output_type": "stream",
          "text": [
            "Mounted at /content/gdrive\n"
          ],
          "name": "stdout"
        }
      ]
    },
    {
      "cell_type": "code",
      "metadata": {
        "id": "U70ucvwPpgoO"
      },
      "source": [
        "# Copia o zip para o Drive\n",
        "!cp -r /content/bert.zip /content/gdrive/MyDrive/"
      ],
      "execution_count": null,
      "outputs": []
    },
    {
      "cell_type": "code",
      "metadata": {
        "colab": {
          "base_uri": "https://localhost:8080/",
          "height": 34
        },
        "id": "P28owbEVqFZV",
        "outputId": "2c9ae39d-1659-4fac-b3ab-0adbe72b9fac"
      },
      "source": [
        "#Testando a predição \n",
        "data = ['this movie was horrible, the plot was really boring. acting was okay',\n",
        "        'the fild is really sucked. there is not plot and acting was bad',\n",
        "        'what a beautiful movie. great plot. acting was good. will see it again']\n",
        "\n",
        "predictor.predict(data)"
      ],
      "execution_count": null,
      "outputs": [
        {
          "output_type": "display_data",
          "data": {
            "text/html": [
              ""
            ],
            "text/plain": [
              "<IPython.core.display.HTML object>"
            ]
          },
          "metadata": {
            "tags": []
          }
        },
        {
          "output_type": "execute_result",
          "data": {
            "text/plain": [
              "['negative', 'negative', 'positive']"
            ]
          },
          "metadata": {
            "tags": []
          },
          "execution_count": 16
        }
      ]
    }
  ]
}